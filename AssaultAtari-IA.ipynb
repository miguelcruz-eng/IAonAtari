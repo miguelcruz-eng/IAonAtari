{
 "cells": [
  {
   "cell_type": "markdown",
   "id": "d02a29c7",
   "metadata": {},
   "source": [
    "# 0 Importando dependencias "
   ]
  },
  {
   "cell_type": "code",
   "execution_count": 1,
   "id": "89ac2651",
   "metadata": {},
   "outputs": [
    {
     "name": "stdout",
     "output_type": "stream",
     "text": [
      "Requirement already satisfied: tensorflow==2.3.1 in c:\\users\\migue\\appdata\\local\\programs\\python\\python38\\lib\\site-packages (2.3.1)\n",
      "Requirement already satisfied: gym in c:\\users\\migue\\appdata\\local\\programs\\python\\python38\\lib\\site-packages (0.19.0)\n",
      "Requirement already satisfied: keras-rl2 in c:\\users\\migue\\appdata\\local\\programs\\python\\python38\\lib\\site-packages (1.0.5)\n",
      "Requirement already satisfied: opt-einsum>=2.3.2 in c:\\users\\migue\\appdata\\local\\programs\\python\\python38\\lib\\site-packages (from tensorflow==2.3.1) (3.3.0)\n",
      "Requirement already satisfied: numpy<1.19.0,>=1.16.0 in c:\\users\\migue\\appdata\\local\\programs\\python\\python38\\lib\\site-packages (from tensorflow==2.3.1) (1.18.5)\n",
      "Requirement already satisfied: tensorboard<3,>=2.3.0 in c:\\users\\migue\\appdata\\local\\programs\\python\\python38\\lib\\site-packages (from tensorflow==2.3.1) (2.11.0)\n",
      "Requirement already satisfied: h5py<2.11.0,>=2.10.0 in c:\\users\\migue\\appdata\\local\\programs\\python\\python38\\lib\\site-packages (from tensorflow==2.3.1) (2.10.0)\n",
      "Requirement already satisfied: keras-preprocessing<1.2,>=1.1.1 in c:\\users\\migue\\appdata\\local\\programs\\python\\python38\\lib\\site-packages (from tensorflow==2.3.1) (1.1.2)\n",
      "Requirement already satisfied: gast==0.3.3 in c:\\users\\migue\\appdata\\local\\programs\\python\\python38\\lib\\site-packages (from tensorflow==2.3.1) (0.3.3)\n",
      "Requirement already satisfied: tensorflow-estimator<2.4.0,>=2.3.0 in c:\\users\\migue\\appdata\\local\\programs\\python\\python38\\lib\\site-packages (from tensorflow==2.3.1) (2.3.0)\n",
      "Requirement already satisfied: six>=1.12.0 in c:\\users\\migue\\appdata\\local\\programs\\python\\python38\\lib\\site-packages (from tensorflow==2.3.1) (1.16.0)\n",
      "Requirement already satisfied: wrapt>=1.11.1 in c:\\users\\migue\\appdata\\local\\programs\\python\\python38\\lib\\site-packages (from tensorflow==2.3.1) (1.14.1)\n",
      "Requirement already satisfied: wheel>=0.26 in c:\\users\\migue\\appdata\\local\\programs\\python\\python38\\lib\\site-packages (from tensorflow==2.3.1) (0.38.4)\n",
      "Requirement already satisfied: astunparse==1.6.3 in c:\\users\\migue\\appdata\\local\\programs\\python\\python38\\lib\\site-packages (from tensorflow==2.3.1) (1.6.3)\n",
      "Requirement already satisfied: absl-py>=0.7.0 in c:\\users\\migue\\appdata\\local\\programs\\python\\python38\\lib\\site-packages (from tensorflow==2.3.1) (1.3.0)\n",
      "Requirement already satisfied: google-pasta>=0.1.8 in c:\\users\\migue\\appdata\\local\\programs\\python\\python38\\lib\\site-packages (from tensorflow==2.3.1) (0.2.0)\n",
      "Requirement already satisfied: grpcio>=1.8.6 in c:\\users\\migue\\appdata\\local\\programs\\python\\python38\\lib\\site-packages (from tensorflow==2.3.1) (1.51.1)\n",
      "Requirement already satisfied: termcolor>=1.1.0 in c:\\users\\migue\\appdata\\local\\programs\\python\\python38\\lib\\site-packages (from tensorflow==2.3.1) (2.1.1)\n",
      "Requirement already satisfied: protobuf>=3.9.2 in c:\\users\\migue\\appdata\\local\\programs\\python\\python38\\lib\\site-packages (from tensorflow==2.3.1) (3.19.6)\n",
      "Requirement already satisfied: cloudpickle<1.7.0,>=1.2.0 in c:\\users\\migue\\appdata\\local\\programs\\python\\python38\\lib\\site-packages (from gym) (1.6.0)\n",
      "Requirement already satisfied: opencv-python>=3. in c:\\users\\migue\\appdata\\local\\programs\\python\\python38\\lib\\site-packages (from gym) (4.6.0.66)\n",
      "Requirement already satisfied: atari-py==0.2.6 in c:\\users\\migue\\appdata\\local\\programs\\python\\python38\\lib\\site-packages (from gym) (0.2.6)\n",
      "Requirement already satisfied: requests<3,>=2.21.0 in c:\\users\\migue\\appdata\\local\\programs\\python\\python38\\lib\\site-packages (from tensorboard<3,>=2.3.0->tensorflow==2.3.1) (2.28.1)\n",
      "Requirement already satisfied: google-auth<3,>=1.6.3 in c:\\users\\migue\\appdata\\local\\programs\\python\\python38\\lib\\site-packages (from tensorboard<3,>=2.3.0->tensorflow==2.3.1) (2.15.0)\n",
      "Requirement already satisfied: werkzeug>=1.0.1 in c:\\users\\migue\\appdata\\local\\programs\\python\\python38\\lib\\site-packages (from tensorboard<3,>=2.3.0->tensorflow==2.3.1) (2.2.2)\n",
      "Requirement already satisfied: tensorboard-data-server<0.7.0,>=0.6.0 in c:\\users\\migue\\appdata\\local\\programs\\python\\python38\\lib\\site-packages (from tensorboard<3,>=2.3.0->tensorflow==2.3.1) (0.6.1)\n",
      "Requirement already satisfied: google-auth-oauthlib<0.5,>=0.4.1 in c:\\users\\migue\\appdata\\local\\programs\\python\\python38\\lib\\site-packages (from tensorboard<3,>=2.3.0->tensorflow==2.3.1) (0.4.6)\n",
      "Requirement already satisfied: setuptools>=41.0.0 in c:\\users\\migue\\appdata\\local\\programs\\python\\python38\\lib\\site-packages (from tensorboard<3,>=2.3.0->tensorflow==2.3.1) (47.1.0)\n",
      "Requirement already satisfied: tensorboard-plugin-wit>=1.6.0 in c:\\users\\migue\\appdata\\local\\programs\\python\\python38\\lib\\site-packages (from tensorboard<3,>=2.3.0->tensorflow==2.3.1) (1.8.1)\n",
      "Requirement already satisfied: markdown>=2.6.8 in c:\\users\\migue\\appdata\\local\\programs\\python\\python38\\lib\\site-packages (from tensorboard<3,>=2.3.0->tensorflow==2.3.1) (3.4.1)\n",
      "Requirement already satisfied: rsa<5,>=3.1.4 in c:\\users\\migue\\appdata\\local\\programs\\python\\python38\\lib\\site-packages (from google-auth<3,>=1.6.3->tensorboard<3,>=2.3.0->tensorflow==2.3.1) (4.9)\n",
      "Requirement already satisfied: pyasn1-modules>=0.2.1 in c:\\users\\migue\\appdata\\local\\programs\\python\\python38\\lib\\site-packages (from google-auth<3,>=1.6.3->tensorboard<3,>=2.3.0->tensorflow==2.3.1) (0.2.8)\n",
      "Requirement already satisfied: cachetools<6.0,>=2.0.0 in c:\\users\\migue\\appdata\\local\\programs\\python\\python38\\lib\\site-packages (from google-auth<3,>=1.6.3->tensorboard<3,>=2.3.0->tensorflow==2.3.1) (5.2.0)\n",
      "Requirement already satisfied: requests-oauthlib>=0.7.0 in c:\\users\\migue\\appdata\\local\\programs\\python\\python38\\lib\\site-packages (from google-auth-oauthlib<0.5,>=0.4.1->tensorboard<3,>=2.3.0->tensorflow==2.3.1) (1.3.1)\n",
      "Requirement already satisfied: importlib-metadata>=4.4 in c:\\users\\migue\\appdata\\local\\programs\\python\\python38\\lib\\site-packages (from markdown>=2.6.8->tensorboard<3,>=2.3.0->tensorflow==2.3.1) (5.1.0)\n",
      "Requirement already satisfied: urllib3<1.27,>=1.21.1 in c:\\users\\migue\\appdata\\local\\programs\\python\\python38\\lib\\site-packages (from requests<3,>=2.21.0->tensorboard<3,>=2.3.0->tensorflow==2.3.1) (1.26.13)\n",
      "Requirement already satisfied: certifi>=2017.4.17 in c:\\users\\migue\\appdata\\local\\programs\\python\\python38\\lib\\site-packages (from requests<3,>=2.21.0->tensorboard<3,>=2.3.0->tensorflow==2.3.1) (2022.12.7)\n",
      "Requirement already satisfied: idna<4,>=2.5 in c:\\users\\migue\\appdata\\local\\programs\\python\\python38\\lib\\site-packages (from requests<3,>=2.21.0->tensorboard<3,>=2.3.0->tensorflow==2.3.1) (3.4)\n",
      "Requirement already satisfied: charset-normalizer<3,>=2 in c:\\users\\migue\\appdata\\local\\programs\\python\\python38\\lib\\site-packages (from requests<3,>=2.21.0->tensorboard<3,>=2.3.0->tensorflow==2.3.1) (2.1.1)\n",
      "Requirement already satisfied: MarkupSafe>=2.1.1 in c:\\users\\migue\\appdata\\local\\programs\\python\\python38\\lib\\site-packages (from werkzeug>=1.0.1->tensorboard<3,>=2.3.0->tensorflow==2.3.1) (2.1.1)\n",
      "Requirement already satisfied: zipp>=0.5 in c:\\users\\migue\\appdata\\local\\programs\\python\\python38\\lib\\site-packages (from importlib-metadata>=4.4->markdown>=2.6.8->tensorboard<3,>=2.3.0->tensorflow==2.3.1) (3.11.0)\n",
      "Requirement already satisfied: pyasn1<0.5.0,>=0.4.6 in c:\\users\\migue\\appdata\\local\\programs\\python\\python38\\lib\\site-packages (from pyasn1-modules>=0.2.1->google-auth<3,>=1.6.3->tensorboard<3,>=2.3.0->tensorflow==2.3.1) (0.4.8)\n",
      "Requirement already satisfied: oauthlib>=3.0.0 in c:\\users\\migue\\appdata\\local\\programs\\python\\python38\\lib\\site-packages (from requests-oauthlib>=0.7.0->google-auth-oauthlib<0.5,>=0.4.1->tensorboard<3,>=2.3.0->tensorflow==2.3.1) (3.2.2)\n"
     ]
    }
   ],
   "source": [
    "!pip install tensorflow==2.3.1 gym keras-rl2 gym[atari]"
   ]
  },
  {
   "cell_type": "code",
   "execution_count": 2,
   "id": "a9ccb6b8",
   "metadata": {
    "scrolled": true
   },
   "outputs": [
    {
     "name": "stderr",
     "output_type": "stream",
     "text": [
      "C:\\Users\\migue\\AppData\\Local\\Programs\\Python\\Python38\\lib\\site-packages\\ale_py\\gym\\environment.py:11: DeprecationWarning: Importing atari-py roms won't be supported in future releases of ale-py.\n",
      "  import ale_py.roms as roms\n",
      "C:\\Users\\migue\\AppData\\Local\\Programs\\Python\\Python38\\lib\\site-packages\\ale_py\\roms\\__init__.py:44: UserWarning: atari_py.atari_roms contains unsupported ROMs: C:\\Users\\migue\\AppData\\Local\\Programs\\Python\\Python38\\Lib\\site-packages\\atari_py\\atari_roms\\{adventure.bin, air_raid.bin, alien.bin, amidar.bin, assault.bin, asterix.bin, asteroids.bin, atlantis.bin, bank_heist.bin, battle_zone.bin, beam_rider.bin, berzerk.bin, bowling.bin, boxing.bin, breakout.bin, carnival.bin, centipede.bin, chopper_command.bin, crazy_climber.bin, defender.bin, demon_attack.bin, double_dunk.bin, elevator_action.bin, enduro.bin, fishing_derby.bin, freeway.bin, frostbite.bin, gopher.bin, gravitar.bin, hero.bin, ice_hockey.bin, jamesbond.bin, journey_escape.bin, kaboom.bin, kangaroo.bin, krull.bin, kung_fu_master.bin, montezuma_revenge.bin, ms_pacman.bin, name_this_game.bin, phoenix.bin, pitfall.bin, pong.bin, pooyan.bin, private_eye.bin, qbert.bin, riverraid.bin, road_runner.bin, robotank.bin, seaquest.bin, skiing.bin, solaris.bin, Space Invaders.bin, space_invaders.bin, star_gunner.bin, tennis.bin, time_pilot.bin, tutankham.bin, up_n_down.bin, venture.bin, video_pinball.bin, wizard_of_wor.bin, yars_revenge.bin, zaxxon.bin}\n",
      "  warnings.warn(\n"
     ]
    }
   ],
   "source": [
    "import gym \n",
    "import ale_py\n",
    "import random"
   ]
  },
  {
   "cell_type": "markdown",
   "id": "c29898f3",
   "metadata": {},
   "source": [
    "# 1 Teste aleatorio utilizando OpenAI Gym"
   ]
  },
  {
   "cell_type": "code",
   "execution_count": 3,
   "id": "f4753b21",
   "metadata": {},
   "outputs": [],
   "source": [
    "env = gym.make('Assault-v4')# O jogo escolhido para o aprendizado de maquina foi o  do console Atari\n",
    "height, width, channels = env.observation_space.shape\n",
    "actions = env.action_space.n"
   ]
  },
  {
   "cell_type": "code",
   "execution_count": 4,
   "id": "d1c037a5",
   "metadata": {},
   "outputs": [
    {
     "data": {
      "text/plain": [
       "['NOOP', 'FIRE', 'UP', 'RIGHT', 'LEFT', 'RIGHTFIRE', 'LEFTFIRE']"
      ]
     },
     "execution_count": 4,
     "metadata": {},
     "output_type": "execute_result"
    }
   ],
   "source": [
    "env.unwrapped.get_action_meanings() # todos os comandos do jogo listados"
   ]
  },
  {
   "cell_type": "code",
   "execution_count": 6,
   "id": "1bc60f3f",
   "metadata": {},
   "outputs": [
    {
     "name": "stdout",
     "output_type": "stream",
     "text": [
      "Episode:1 Score:210.0\n",
      "Episode:2 Score:252.0\n",
      "Episode:3 Score:378.0\n",
      "Episode:4 Score:231.0\n",
      "Episode:5 Score:210.0\n"
     ]
    }
   ],
   "source": [
    "episodes = 5\n",
    "for episode in range(1, episodes+1):\n",
    "    state = env.reset()\n",
    "    done = False\n",
    "    score = 0 \n",
    "    \n",
    "    while not done:\n",
    "        env.render()\n",
    "        action = random.choice([0,1,2,3,4,5,6])\n",
    "        n_state, reward, done, info = env.step(action)\n",
    "        score+=reward\n",
    "    print('Episode:{} Score:{}'.format(episode, score))\n",
    "env.close()"
   ]
  },
  {
   "cell_type": "markdown",
   "id": "ee119325",
   "metadata": {},
   "source": [
    "# 2 Criando Modelo de Deep Learning Keras"
   ]
  },
  {
   "cell_type": "code",
   "execution_count": 7,
   "id": "988744c2",
   "metadata": {},
   "outputs": [],
   "source": [
    "import numpy as np\n",
    "from tensorflow.keras.models import Sequential\n",
    "from tensorflow.keras.layers import Dense, Flatten, Convolution2D\n",
    "from tensorflow.keras.optimizers import Adam"
   ]
  },
  {
   "cell_type": "code",
   "execution_count": 8,
   "id": "fda5ecf8",
   "metadata": {},
   "outputs": [],
   "source": [
    "def build_model(height, width, channels, actions):\n",
    "    model = Sequential() #Adicionando camadas de Convolução por pixels\n",
    "    model.add(Convolution2D(32, (8,8), strides=(4,4), activation='relu', input_shape=(3,height, width, channels)))\n",
    "    model.add(Convolution2D(64, (4,4), strides=(2,2), activation='relu'))\n",
    "    model.add(Convolution2D(64, (3,3), activation='relu'))\n",
    "    model.add(Flatten()) #Juntando as camadas geradas para que estajam totalmente acopladas\n",
    "    model.add(Dense(512, activation='relu')) #camadas de densidade\n",
    "    model.add(Dense(256, activation='relu'))\n",
    "    model.add(Dense(actions, activation='linear'))\n",
    "    return model"
   ]
  },
  {
   "cell_type": "code",
   "execution_count": 15,
   "id": "f1f5f6b0",
   "metadata": {},
   "outputs": [],
   "source": [
    "del model"
   ]
  },
  {
   "cell_type": "code",
   "execution_count": 16,
   "id": "3454e9be",
   "metadata": {},
   "outputs": [],
   "source": [
    "model = build_model(height, width, channels, actions)"
   ]
  },
  {
   "cell_type": "code",
   "execution_count": 17,
   "id": "0076c2c0",
   "metadata": {},
   "outputs": [
    {
     "name": "stdout",
     "output_type": "stream",
     "text": [
      "Model: \"sequential_1\"\n",
      "_________________________________________________________________\n",
      "Layer (type)                 Output Shape              Param #   \n",
      "=================================================================\n",
      "conv2d_3 (Conv2D)            (None, 3, 61, 39, 32)     6176      \n",
      "_________________________________________________________________\n",
      "conv2d_4 (Conv2D)            (None, 3, 29, 18, 64)     32832     \n",
      "_________________________________________________________________\n",
      "conv2d_5 (Conv2D)            (None, 3, 27, 16, 64)     36928     \n",
      "_________________________________________________________________\n",
      "flatten_1 (Flatten)          (None, 82944)             0         \n",
      "_________________________________________________________________\n",
      "dense_4 (Dense)              (None, 512)               42467840  \n",
      "_________________________________________________________________\n",
      "dense_5 (Dense)              (None, 256)               131328    \n",
      "_________________________________________________________________\n",
      "dense_6 (Dense)              (None, 7)                 1799      \n",
      "=================================================================\n",
      "Total params: 42,676,903\n",
      "Trainable params: 42,676,903\n",
      "Non-trainable params: 0\n",
      "_________________________________________________________________\n"
     ]
    }
   ],
   "source": [
    "model.summary() #Mostrando o sumario com a relação de todas as camadas e variaveis de treinamento"
   ]
  },
  {
   "cell_type": "markdown",
   "id": "91dc8864",
   "metadata": {},
   "source": [
    "# 3 Criando a entidade que será treinada com Keras-RL"
   ]
  },
  {
   "cell_type": "code",
   "execution_count": 18,
   "id": "4ad12f36",
   "metadata": {},
   "outputs": [],
   "source": [
    "from rl.agents import DQNAgent\n",
    "from rl.memory import SequentialMemory\n",
    "from rl.policy import LinearAnnealedPolicy, EpsGreedyQPolicy"
   ]
  },
  {
   "cell_type": "code",
   "execution_count": 19,
   "id": "6bdf21ff",
   "metadata": {},
   "outputs": [],
   "source": [
    "def build_agent(model, actions): #Criando o metodo de aprendizagem da maquina, eps greedy\n",
    "    policy = LinearAnnealedPolicy(EpsGreedyQPolicy(), attr='eps', value_max=1., value_min=.1, value_test=.2, nb_steps=10000)\n",
    "    memory = SequentialMemory(limit=1000, window_length=3) #memoria do agente, sequencial\n",
    "    dqn = DQNAgent(model=model, memory=memory, policy=policy, #Network de reforço\n",
    "                  enable_dueling_network=True, dueling_type='avg', \n",
    "                   nb_actions=actions, nb_steps_warmup=1000\n",
    "                  )\n",
    "    return dqn"
   ]
  },
  {
   "cell_type": "code",
   "execution_count": 20,
   "id": "57263389",
   "metadata": {},
   "outputs": [],
   "source": [
    "dqn = build_agent(model, actions)\n",
    "dqn.compile(Adam(lr=1e-4)) # Realizando o Treinamento"
   ]
  },
  {
   "cell_type": "code",
   "execution_count": 20,
   "id": "80c9398f",
   "metadata": {
    "scrolled": true
   },
   "outputs": [
    {
     "name": "stdout",
     "output_type": "stream",
     "text": [
      "Training for 10000 steps ...\n",
      "WARNING:tensorflow:From C:\\Users\\migue\\AppData\\Local\\Programs\\Python\\Python38\\lib\\site-packages\\tensorflow\\python\\keras\\engine\\training_v1.py:2070: Model.state_updates (from tensorflow.python.keras.engine.training) is deprecated and will be removed in a future version.\n",
      "Instructions for updating:\n",
      "This property should not be used in TensorFlow 2.0, as updates are applied automatically.\n",
      "  519/10000: episode: 1, duration: 19.061s, episode steps: 519, steps per second:  27, episode reward: 210.000, mean reward:  0.405 [ 0.000, 21.000], mean action: 3.073 [0.000, 6.000],  loss: --, mean_q: --, mean_eps: --\n",
      " 1206/10000: episode: 2, duration: 320.754s, episode steps: 687, steps per second:   2, episode reward: 189.000, mean reward:  0.275 [ 0.000, 21.000], mean action: 3.093 [0.000, 6.000],  loss: 20.274902, mean_q: 10.399663, mean_eps: 0.900730\n",
      " 1884/10000: episode: 3, duration: 981.156s, episode steps: 678, steps per second:   1, episode reward: 189.000, mean reward:  0.279 [ 0.000, 21.000], mean action: 2.917 [0.000, 6.000],  loss: 0.910981, mean_q: 9.292033, mean_eps: 0.860995\n",
      " 2646/10000: episode: 4, duration: 1104.903s, episode steps: 762, steps per second:   1, episode reward: 189.000, mean reward:  0.248 [ 0.000, 21.000], mean action: 2.911 [0.000, 6.000],  loss: 0.496200, mean_q: 9.245811, mean_eps: 0.796195\n",
      " 3358/10000: episode: 5, duration: 1035.090s, episode steps: 712, steps per second:   1, episode reward: 231.000, mean reward:  0.324 [ 0.000, 21.000], mean action: 2.962 [0.000, 6.000],  loss: 1.014691, mean_q: 9.066197, mean_eps: 0.729865\n",
      " 4060/10000: episode: 6, duration: 1023.359s, episode steps: 702, steps per second:   1, episode reward: 294.000, mean reward:  0.419 [ 0.000, 21.000], mean action: 3.066 [0.000, 6.000],  loss: 0.888285, mean_q: 9.344686, mean_eps: 0.666235\n",
      " 4956/10000: episode: 7, duration: 1302.702s, episode steps: 896, steps per second:   1, episode reward: 273.000, mean reward:  0.305 [ 0.000, 21.000], mean action: 2.985 [0.000, 6.000],  loss: 0.560100, mean_q: 8.901340, mean_eps: 0.594325\n",
      " 5878/10000: episode: 8, duration: 1333.612s, episode steps: 922, steps per second:   1, episode reward: 231.000, mean reward:  0.251 [ 0.000, 21.000], mean action: 2.892 [0.000, 6.000],  loss: 0.413859, mean_q: 8.718167, mean_eps: 0.512515\n",
      " 6459/10000: episode: 9, duration: 848.359s, episode steps: 581, steps per second:   1, episode reward: 231.000, mean reward:  0.398 [ 0.000, 21.000], mean action: 2.950 [0.000, 6.000],  loss: 0.796119, mean_q: 9.122530, mean_eps: 0.444880\n",
      " 7299/10000: episode: 10, duration: 1216.974s, episode steps: 840, steps per second:   1, episode reward: 231.000, mean reward:  0.275 [ 0.000, 21.000], mean action: 3.144 [0.000, 6.000],  loss: 0.687566, mean_q: 9.390073, mean_eps: 0.380935\n",
      " 8289/10000: episode: 11, duration: 1430.089s, episode steps: 990, steps per second:   1, episode reward: 210.000, mean reward:  0.212 [ 0.000, 21.000], mean action: 2.868 [0.000, 6.000],  loss: 0.268791, mean_q: 8.464023, mean_eps: 0.298585\n",
      " 9461/10000: episode: 12, duration: 1707.494s, episode steps: 1172, steps per second:   1, episode reward: 294.000, mean reward:  0.251 [ 0.000, 21.000], mean action: 3.052 [0.000, 6.000],  loss: 0.455377, mean_q: 8.260557, mean_eps: 0.201295\n",
      "done, took 13103.707 seconds\n"
     ]
    },
    {
     "data": {
      "text/plain": [
       "<tensorflow.python.keras.callbacks.History at 0x2098c1dbbe0>"
      ]
     },
     "execution_count": 20,
     "metadata": {},
     "output_type": "execute_result"
    }
   ],
   "source": [
    "dqn.fit(env, nb_steps=10000, visualize=False, verbose=2)"
   ]
  },
  {
   "cell_type": "code",
   "execution_count": 21,
   "id": "25a14271",
   "metadata": {},
   "outputs": [
    {
     "name": "stdout",
     "output_type": "stream",
     "text": [
      "Testing for 10 episodes ...\n",
      "WARNING:tensorflow:From C:\\Users\\migue\\AppData\\Local\\Programs\\Python\\Python38\\lib\\site-packages\\tensorflow\\python\\keras\\engine\\training_v1.py:2070: Model.state_updates (from tensorflow.python.keras.engine.training) is deprecated and will be removed in a future version.\n",
      "Instructions for updating:\n",
      "This property should not be used in TensorFlow 2.0, as updates are applied automatically.\n",
      "Episode 1: reward: 441.000, steps: 937\n",
      "Episode 2: reward: 168.000, steps: 703\n",
      "Episode 3: reward: 273.000, steps: 988\n",
      "Episode 4: reward: 273.000, steps: 812\n",
      "Episode 5: reward: 147.000, steps: 557\n",
      "Episode 6: reward: 168.000, steps: 478\n",
      "Episode 7: reward: 378.000, steps: 877\n",
      "Episode 8: reward: 210.000, steps: 696\n",
      "Episode 9: reward: 357.000, steps: 947\n",
      "Episode 10: reward: 315.000, steps: 825\n",
      "273.0\n"
     ]
    }
   ],
   "source": [
    "scores = dqn.test(env, nb_episodes=10, visualize=True)\n",
    "print(np.mean(scores.history['episode_reward'])) # Testando a IA apos o treinamento"
   ]
  },
  {
   "cell_type": "markdown",
   "id": "37bbbcb0",
   "metadata": {},
   "source": [
    "# 4. Recuperenado IA treinada da memoria"
   ]
  },
  {
   "cell_type": "code",
   "execution_count": 21,
   "id": "c32a3fe4",
   "metadata": {},
   "outputs": [
    {
     "name": "stdout",
     "output_type": "stream",
     "text": [
      "[WARNING] SavedWeights/10k-Fast/dqn_weights.h5f.index already exists - overwrite? [y/n]y\n",
      "[TIP] Next time specify overwrite=True!\n"
     ]
    }
   ],
   "source": [
    "dqn.save_weights('SavedWeights/10k-Fast/dqn_weights.h5f')"
   ]
  },
  {
   "cell_type": "code",
   "execution_count": 31,
   "id": "dd1ea71b",
   "metadata": {},
   "outputs": [
    {
     "ename": "NameError",
     "evalue": "name 'model' is not defined",
     "output_type": "error",
     "traceback": [
      "\u001b[1;31m---------------------------------------------------------------------------\u001b[0m",
      "\u001b[1;31mNameError\u001b[0m                                 Traceback (most recent call last)",
      "Cell \u001b[1;32mIn[31], line 1\u001b[0m\n\u001b[1;32m----> 1\u001b[0m \u001b[38;5;28;01mdel\u001b[39;00m model, dqn\n",
      "\u001b[1;31mNameError\u001b[0m: name 'model' is not defined"
     ]
    }
   ],
   "source": [
    "del model, dqn"
   ]
  },
  {
   "cell_type": "code",
   "execution_count": 19,
   "id": "a3ebd1e6",
   "metadata": {},
   "outputs": [],
   "source": [
    "dqn.load_weights('SavedWeights/10k-Fast/dqn_weights.h5f')"
   ]
  },
  {
   "cell_type": "code",
   "execution_count": null,
   "id": "dd011a2f",
   "metadata": {},
   "outputs": [],
   "source": []
  }
 ],
 "metadata": {
  "kernelspec": {
   "display_name": "Python 3 (ipykernel)",
   "language": "python",
   "name": "python3"
  },
  "language_info": {
   "codemirror_mode": {
    "name": "ipython",
    "version": 3
   },
   "file_extension": ".py",
   "mimetype": "text/x-python",
   "name": "python",
   "nbconvert_exporter": "python",
   "pygments_lexer": "ipython3",
   "version": "3.8.5"
  }
 },
 "nbformat": 4,
 "nbformat_minor": 5
}
